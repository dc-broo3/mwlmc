{
 "cells": [
  {
   "cell_type": "code",
   "execution_count": 47,
   "id": "5f9c0ebf-53d1-4a39-962a-2530bdef428f",
   "metadata": {
    "execution": {
     "iopub.execute_input": "2022-05-03T13:47:01.815203Z",
     "iopub.status.busy": "2022-05-03T13:47:01.814376Z",
     "iopub.status.idle": "2022-05-03T13:47:01.837731Z",
     "shell.execute_reply": "2022-05-03T13:47:01.837170Z",
     "shell.execute_reply.started": "2022-05-03T13:47:01.815125Z"
    },
    "tags": []
   },
   "outputs": [
    {
     "data": {
      "text/plain": [
       "<module 'mwlmc_plot' from '/Users/sl01701/Documents/Projects/code/mwlmc/tutorial/mwlmc_plot.py'>"
      ]
     },
     "execution_count": 47,
     "metadata": {},
     "output_type": "execute_result"
    }
   ],
   "source": [
    "### import packages here\n",
    "\n",
    "import numpy as np\n",
    "import matplotlib.pyplot as plt\n",
    "from matplotlib.colors import LogNorm\n",
    "\n",
    "import mwlmc\n",
    "\n",
    "import mwlmc_util\n",
    "import mwlmc_plot\n",
    "\n",
    "import importlib\n",
    "importlib.reload(mwlmc_util)\n",
    "importlib.reload(mwlmc_plot)"
   ]
  },
  {
   "cell_type": "markdown",
   "id": "5c8b39d1-b3c0-4bce-84db-3aad432fc2bf",
   "metadata": {},
   "source": [
    "### Introduction "
   ]
  },
  {
   "cell_type": "markdown",
   "id": "6ff7c724-c23f-4c77-b1ab-f68088c42311",
   "metadata": {},
   "source": [
    "The simulations consists of expansion of the Milky Way stellar component \n",
    "(`mwd`), the Milky Way halo (`mwhalo`), and the Large Magellanic Cloud halo \n",
    "(`lmc`). In this tutorial, we present how we can access the potential, \n",
    "densities, and forces of the different expansions. A tutorial on how to run \n",
    "orbits incthe full simulation can be found in the \n",
    "[orbits tutorial](orbits_tutorial.ipynb). The advantage of this type of \n",
    "simulation is that we can select different moments (such as the dipole or \n",
    "quadrupole), and see how this affects all these outputs. For a more detailed \n",
    "explanation and example, see e.g.Lilleengen et al. 2022. We also provide the \n",
    "option to run orbits in the static, unperturbed Milky Way potential from [Erkal et al. 2019](https://ui.adsabs.harvard.edu/link_gateway/2019MNRAS.487.2685E/doi:10.1093/mnras/stz1371).\n",
    "\n",
    "\n",
    "Let's get started. To access the simulation, first, we need to initialize the \n",
    "expansions. Afterwards, the functions will be callable via the Model instance:"
   ]
  },
  {
   "cell_type": "code",
   "execution_count": 2,
   "id": "34f0d797-9bc8-4368-a3a4-225ce418bf59",
   "metadata": {
    "execution": {
     "iopub.execute_input": "2022-05-03T13:34:36.609230Z",
     "iopub.status.busy": "2022-05-03T13:34:36.609121Z",
     "iopub.status.idle": "2022-05-03T13:34:37.224279Z",
     "shell.execute_reply": "2022-05-03T13:34:37.223918Z",
     "shell.execute_reply.started": "2022-05-03T13:34:36.609217Z"
    },
    "tags": []
   },
   "outputs": [
    {
     "name": "stdout",
     "output_type": "stream",
     "text": [
      "Initialising MW ... \n"
     ]
    },
    {
     "name": "stderr",
     "output_type": "stream",
     "text": [
      "sphcache::read_sph_cache: trying to read cached table . . . success!!\n",
      "sphcache::read_sph_cache: trying to read cached table . . . success!!\n",
      "cylcache::read_cyl_cache: trying to read cached table . . . success!!\n"
     ]
    },
    {
     "name": "stdout",
     "output_type": "stream",
     "text": [
      "sphcoefs::read_coef_file: reading coefficients from file . . . success!!\n",
      "Initialising LMC ... \n",
      "sphcoefs::read_coef_file: reading coefficients from file . . . success!!\n",
      "Initialising MW disc ... \n",
      "cylcoefs::read_coef_file: reading NUMT, LMAX, NORDER from file . . . success!!\n"
     ]
    }
   ],
   "source": [
    "Model = mwlmc.MWLMC()"
   ]
  },
  {
   "cell_type": "markdown",
   "id": "05a20244-8e54-401b-bb3b-871981998721",
   "metadata": {
    "jp-MarkdownHeadingCollapsed": true,
    "tags": []
   },
   "source": [
    "### Test documentation\n"
   ]
  },
  {
   "cell_type": "code",
   "execution_count": 3,
   "id": "f99b41e3-f667-4553-b6ab-69a4a0b15a37",
   "metadata": {
    "execution": {
     "iopub.execute_input": "2022-05-03T13:34:37.226673Z",
     "iopub.status.busy": "2022-05-03T13:34:37.226452Z",
     "iopub.status.idle": "2022-05-03T13:34:37.229037Z",
     "shell.execute_reply": "2022-05-03T13:34:37.228737Z",
     "shell.execute_reply.started": "2022-05-03T13:34:37.226659Z"
    },
    "tags": []
   },
   "outputs": [
    {
     "data": {
      "text/plain": [
       "\u001b[0;31mDocstring:\u001b[0m      <no docstring>\n",
       "\u001b[0;31mInit docstring:\u001b[0m __init__(self: mwlmc.MWLMC) -> None\n",
       "\u001b[0;31mFile:\u001b[0m           ~/Documents/Projects/code/mwlmc/mwlmc.cpython-38-darwin.so\n",
       "\u001b[0;31mType:\u001b[0m           pybind11_type\n",
       "\u001b[0;31mSubclasses:\u001b[0m     \n"
      ]
     },
     "metadata": {},
     "output_type": "display_data"
    }
   ],
   "source": [
    "mwlmc.MWLMC?"
   ]
  },
  {
   "cell_type": "code",
   "execution_count": 4,
   "id": "0407f9d0-2aca-4a77-9486-be45116c228f",
   "metadata": {
    "execution": {
     "iopub.execute_input": "2022-05-03T13:34:37.229642Z",
     "iopub.status.busy": "2022-05-03T13:34:37.229519Z",
     "iopub.status.idle": "2022-05-03T13:34:37.231835Z",
     "shell.execute_reply": "2022-05-03T13:34:37.231523Z",
     "shell.execute_reply.started": "2022-05-03T13:34:37.229630Z"
    },
    "tags": []
   },
   "outputs": [
    {
     "name": "stdout",
     "output_type": "stream",
     "text": [
      "Object `get_harmonic_flag` not found.\n"
     ]
    }
   ],
   "source": [
    "get_harmonic_flag?"
   ]
  },
  {
   "cell_type": "code",
   "execution_count": 5,
   "id": "2cba7bcc-53c0-4379-b261-375b48f6c886",
   "metadata": {
    "execution": {
     "iopub.execute_input": "2022-05-03T13:34:37.232502Z",
     "iopub.status.busy": "2022-05-03T13:34:37.232411Z",
     "iopub.status.idle": "2022-05-03T13:34:37.234807Z",
     "shell.execute_reply": "2022-05-03T13:34:37.234471Z",
     "shell.execute_reply.started": "2022-05-03T13:34:37.232490Z"
    }
   },
   "outputs": [
    {
     "data": {
      "text/plain": [
       "\u001b[0;31mDocstring:\u001b[0m\n",
       "get_lmc_trajectory(self: mwlmc.MWLMC, dt: float = 0.000125) -> numpy.ndarray[numpy.float64[m, n]]\n",
       "\n",
       "\n",
       "Get the LMC trajectory (relative to the MW disc centre).\n",
       "\u001b[0;31mType:\u001b[0m      method\n"
      ]
     },
     "metadata": {},
     "output_type": "display_data"
    }
   ],
   "source": [
    "Model.get_lmc_trajectory?"
   ]
  },
  {
   "cell_type": "code",
   "execution_count": 6,
   "id": "55328714-9624-4c76-9842-31072b94d3ae",
   "metadata": {
    "execution": {
     "iopub.execute_input": "2022-05-03T13:34:37.235335Z",
     "iopub.status.busy": "2022-05-03T13:34:37.235253Z",
     "iopub.status.idle": "2022-05-03T13:34:37.238511Z",
     "shell.execute_reply": "2022-05-03T13:34:37.237957Z",
     "shell.execute_reply.started": "2022-05-03T13:34:37.235324Z"
    }
   },
   "outputs": [
    {
     "data": {
      "text/plain": [
       "\u001b[0;31mDocstring:\u001b[0m\n",
       "lmc_fields(*args, **kwargs)\n",
       "Overloaded function.\n",
       "\n",
       "1. lmc_fields(self: mwlmc.MWLMC, t: float, x: List[float], y: List[float], z: List[float], globalframe: bool = False, lmcharmonicflag: int = 127, verbose: bool = False) -> numpy.ndarray[numpy.float64[m, n]]\n",
       "\n",
       "\n",
       "                Return all fields for the LMC halo (in the frame of the LMC).\n",
       "\n",
       "                Parameters\n",
       "                ----------\n",
       "                t : float\n",
       "                x, y, z : float\n",
       "                globalframe : bool = False\n",
       "                lmcharmonicflag : int = 127\n",
       "                verbose : bool = False\n",
       "\n",
       "                Returns\n",
       "\n",
       "                -------\n",
       "                fx, fy, fz : float\n",
       "                density : float\n",
       "                potential : float\n",
       "\n",
       "            \n",
       "\n",
       "2. lmc_fields(self: mwlmc.MWLMC, t: float, x: float, y: float, z: float, globalframe: bool = False, lmcharmonicflag: int = 127, verbose: bool = False) -> List[float]\n",
       "\u001b[0;31mType:\u001b[0m      method\n"
      ]
     },
     "metadata": {},
     "output_type": "display_data"
    }
   ],
   "source": [
    "Model.lmc_fields?"
   ]
  },
  {
   "cell_type": "code",
   "execution_count": 7,
   "id": "89e19ed0-3140-4369-a9a3-fa077a233cec",
   "metadata": {
    "execution": {
     "iopub.execute_input": "2022-05-03T13:34:37.241970Z",
     "iopub.status.busy": "2022-05-03T13:34:37.241454Z",
     "iopub.status.idle": "2022-05-03T13:34:37.246731Z",
     "shell.execute_reply": "2022-05-03T13:34:37.245362Z",
     "shell.execute_reply.started": "2022-05-03T13:34:37.241951Z"
    }
   },
   "outputs": [
    {
     "data": {
      "text/plain": [
       "\u001b[0;31mDocstring:\u001b[0m\n",
       "rewind(*args, **kwargs)\n",
       "Overloaded function.\n",
       "\n",
       "1. rewind(self: mwlmc.MWLMC, xinit: List[float], vinit: List[float], dt: float = 0.002, mwhharmonicflag: int = 127, mwdharmonicflag: int = 127, lmcharmonicflag: int = 127, rewindtime: float = 2.5, discframe: bool = True) -> numpy.ndarray[numpy.float64[m, n]]\n",
       "\n",
       "2. rewind(self: mwlmc.MWLMC, xinit: numpy.ndarray[numpy.float64[m, n]], vinit: numpy.ndarray[numpy.float64[m, n]], dt: float = 0.002, mwhharmonicflag: int = 127, mwdharmonicflag: int = 127, lmcharmonicflag: int = 127, rewindtime: float = 2.5, discframe: bool = True) -> List[numpy.ndarray[numpy.float64[m, n]]]\n",
       "\n",
       "Compute an orbit rewind in all three components.\n",
       "\n",
       "                Parameters\n",
       "                ----------\n",
       "                xinit : array-like\n",
       "                vinit : array-like\n",
       "                dt :\n",
       "\n",
       "                Returns\n",
       "                -------\n",
       "            \n",
       "\u001b[0;31mType:\u001b[0m      method\n"
      ]
     },
     "metadata": {},
     "output_type": "display_data"
    }
   ],
   "source": [
    "Model.rewind?"
   ]
  },
  {
   "cell_type": "markdown",
   "id": "9e003d76-c1ad-4e71-9100-d710db6dafa9",
   "metadata": {},
   "source": [
    "### Potential, density, and forces"
   ]
  },
  {
   "cell_type": "markdown",
   "id": "a0f9d725-ee4b-4365-8125-2766dcb89787",
   "metadata": {},
   "source": [
    "Let's first have a look at the simulation. We can access densities of both \n",
    "halos, the potentials of all three components, and forces of all three \n",
    "components. This can be done at a single position, or with an array of \n",
    "positions. "
   ]
  },
  {
   "cell_type": "markdown",
   "id": "f115d622-816e-4b50-a51f-d559b1b92b38",
   "metadata": {},
   "source": [
    "#### Getting these properties at one position "
   ]
  },
  {
   "cell_type": "markdown",
   "id": "04cb8614-dc8a-47e7-af29-d18ff77ee8dc",
   "metadata": {},
   "source": [
    "The forces, density, and potential are all returned by the fields \n",
    "functions: `mwhalo_fields`, `lmc_fields`, `mwd_fields`. Let's look at the \n",
    "`mwhalo` field at the Sun's position today:"
   ]
  },
  {
   "cell_type": "code",
   "execution_count": 8,
   "id": "e2231684-2623-444c-849b-842e2fe330fb",
   "metadata": {
    "execution": {
     "iopub.execute_input": "2022-05-03T13:34:37.248371Z",
     "iopub.status.busy": "2022-05-03T13:34:37.248233Z",
     "iopub.status.idle": "2022-05-03T13:34:37.254235Z",
     "shell.execute_reply": "2022-05-03T13:34:37.253228Z",
     "shell.execute_reply.started": "2022-05-03T13:34:37.248357Z"
    },
    "tags": []
   },
   "outputs": [
    {
     "name": "stdout",
     "output_type": "stream",
     "text": [
      "f_x = 2377.41 [km/s^2]\n",
      "f_y = -77.14 [km/s^2]\n",
      "f_z = -370.68 [km/s^2]\n",
      "rho = 9.51e-03 [Msun/pc^3]\n",
      "Phi = -5.310829e+14 [(km/s)^2]\n"
     ]
    }
   ],
   "source": [
    "t = 0.\n",
    "x, y, z = -8.27, 0., 0.\n",
    "fx, fy, fz, dens, pot = Model.mwhalo_fields(t, x, y, z)\n",
    "mwlmc_util.print_field_info(fx, fy, fz, dens, pot)"
   ]
  },
  {
   "cell_type": "markdown",
   "id": "7b2490ba-0849-4035-aea7-3ca583e44979",
   "metadata": {},
   "source": [
    "These are the values at the Sun's position in the fully live expansion (by\n",
    "default). Let's see whether there is a difference in the monopole. We can select different harmonic moments via the `mwdhharmonicflag`. A more detailed \n",
    "explanation is given further below."
   ]
  },
  {
   "cell_type": "code",
   "execution_count": 9,
   "id": "eecd04fe-3e2b-4f84-86ee-35fde96dc31e",
   "metadata": {
    "execution": {
     "iopub.execute_input": "2022-05-03T13:34:37.256213Z",
     "iopub.status.busy": "2022-05-03T13:34:37.256062Z",
     "iopub.status.idle": "2022-05-03T13:34:37.261530Z",
     "shell.execute_reply": "2022-05-03T13:34:37.260586Z",
     "shell.execute_reply.started": "2022-05-03T13:34:37.256199Z"
    }
   },
   "outputs": [
    {
     "name": "stdout",
     "output_type": "stream",
     "text": [
      "f_x = 2377.82 [km/s^2]\n",
      "f_y = -0.00 [km/s^2]\n",
      "f_z = -0.00 [km/s^2]\n",
      "rho = 8.98e-03 [Msun/pc^3]\n",
      "Phi = -5.308147e+14 [(km/s)^2]\n"
     ]
    }
   ],
   "source": [
    "t = 0.\n",
    "x, y, z = -8.27, 0., 0.\n",
    "fx, fy, fz, dens, pot = Model.mwhalo_fields(t, x, y, z, mwhharmonicflag=0)\n",
    "mwlmc_util.print_field_info(fx, fy, fz, dens, pot)"
   ]
  },
  {
   "cell_type": "markdown",
   "id": "80f4d997-daf5-47ea-86c5-f69097198950",
   "metadata": {},
   "source": [
    "We can immediately see that the deformations added forces in the $y$- and \n",
    "$z$-direction. \n",
    "\n",
    "We can also get these informations at other times. $t=0$ Gyr is at the current \n",
    "time, and the simulation allows us to look back in time (i.e. negative times).\n",
    "Let's get the properties 1 Gyr ago:\n"
   ]
  },
  {
   "cell_type": "code",
   "execution_count": 10,
   "id": "b522773d-7ec0-48dd-8539-625281f01e35",
   "metadata": {
    "execution": {
     "iopub.execute_input": "2022-05-03T13:34:37.262630Z",
     "iopub.status.busy": "2022-05-03T13:34:37.262513Z",
     "iopub.status.idle": "2022-05-03T13:34:37.267981Z",
     "shell.execute_reply": "2022-05-03T13:34:37.266585Z",
     "shell.execute_reply.started": "2022-05-03T13:34:37.262617Z"
    },
    "tags": []
   },
   "outputs": [
    {
     "name": "stdout",
     "output_type": "stream",
     "text": [
      "f_x = 2515.00 [km/s^2]\n",
      "f_y = 24.71 [km/s^2]\n",
      "f_z = -22.16 [km/s^2]\n",
      "rho = 1.00e-02 [Msun/pc^3]\n",
      "Phi = -5.332048e+14 [(km/s)^2]\n"
     ]
    }
   ],
   "source": [
    "t = -1.\n",
    "x, y, z = -8.27, 0., 0.\n",
    "fx, fy, fz, dens, pot = Model.mwhalo_fields(t, x, y, z)\n",
    "mwlmc_util.print_field_info(fx, fy, fz, dens, pot)"
   ]
  },
  {
   "cell_type": "markdown",
   "id": "be1df6aa-a22b-46d8-8f2b-96b59c4bfde1",
   "metadata": {},
   "source": [
    "We see a stark change in the force in $z$-directions. It seems that the \n",
    "deformations were the strongest within the last Gyr."
   ]
  },
  {
   "cell_type": "markdown",
   "id": "4853fe00-7b2f-45c8-a374-2601953a0a91",
   "metadata": {},
   "source": [
    "#### Evaluation these properties for arrays "
   ]
  },
  {
   "cell_type": "markdown",
   "id": "1ad5901a-db35-48e9-95ba-385e8fd61fd6",
   "metadata": {},
   "source": [
    "These properties are often more insightful for an array of positions. We can \n",
    "e.g. get these values over a grid in the $y-z$-plane. We put in a vector for \n",
    "each direction:\n"
   ]
  },
  {
   "cell_type": "code",
   "execution_count": 11,
   "id": "fd0ec348-d522-456a-a018-bdb0f1693a8f",
   "metadata": {
    "execution": {
     "iopub.execute_input": "2022-05-03T13:34:37.271572Z",
     "iopub.status.busy": "2022-05-03T13:34:37.269679Z",
     "iopub.status.idle": "2022-05-03T13:34:37.277743Z",
     "shell.execute_reply": "2022-05-03T13:34:37.277120Z",
     "shell.execute_reply.started": "2022-05-03T13:34:37.271503Z"
    },
    "tags": []
   },
   "outputs": [],
   "source": [
    "# make grid\n",
    "y = np.arange(-50, 51, 5)\n",
    "z = np.arange(-50, 51, 5)\n",
    "Ym, Zm = np.meshgrid(y, z)\n",
    "Y, Z =  Ym.ravel(), Zm.ravel()\n",
    "X = np.zeros(len(Y))"
   ]
  },
  {
   "cell_type": "code",
   "execution_count": 12,
   "id": "950db223-1aa6-4e69-bb12-489eeef76a3f",
   "metadata": {
    "execution": {
     "iopub.execute_input": "2022-05-03T13:34:37.299498Z",
     "iopub.status.busy": "2022-05-03T13:34:37.299278Z",
     "iopub.status.idle": "2022-05-03T13:34:37.306344Z",
     "shell.execute_reply": "2022-05-03T13:34:37.305336Z",
     "shell.execute_reply.started": "2022-05-03T13:34:37.299481Z"
    },
    "tags": []
   },
   "outputs": [],
   "source": [
    "t = 0.\n",
    "fields = Model.mwhalo_fields(t, X, Y, Z)\n",
    "\n",
    "dens = fields[:,3]\n",
    "dens = dens.reshape((len(y), len(z)))"
   ]
  },
  {
   "cell_type": "markdown",
   "id": "f6143fdf-c324-4ca6-911d-d21b11cef1eb",
   "metadata": {},
   "source": [
    "Let's have a look (we supplied some simple plotting functions with \n",
    "`mwlmc_plots`, adapt as you need!)"
   ]
  },
  {
   "cell_type": "code",
   "execution_count": 13,
   "id": "67da6b5f-0fe4-4afe-8ca6-a8d5b0c7fb87",
   "metadata": {
    "execution": {
     "iopub.execute_input": "2022-05-03T13:34:37.307880Z",
     "iopub.status.busy": "2022-05-03T13:34:37.307747Z",
     "iopub.status.idle": "2022-05-03T13:34:37.847831Z",
     "shell.execute_reply": "2022-05-03T13:34:37.847368Z",
     "shell.execute_reply.started": "2022-05-03T13:34:37.307866Z"
    },
    "tags": []
   },
   "outputs": [
    {
     "data": {
      "image/png": "[encoded data removed]",
      "text/plain": [
       "<Figure size 432x288 with 2 Axes>"
      ]
     },
     "metadata": {
      "needs_background": "light"
     },
     "output_type": "display_data"
    }
   ],
   "source": [
    "fig, ax = mwlmc_plot.plot_density(Ym, Zm, dens,\n",
    "                                  cmap = plt.cm.inferno, \n",
    "                                  norm = LogNorm())\n",
    "plt.show()"
   ]
  },
  {
   "cell_type": "markdown",
   "id": "6cb9ee9b-526c-4f94-a13e-9a66dca9d20b",
   "metadata": {},
   "source": [
    "Again, lets compare to the monopole: "
   ]
  },
  {
   "cell_type": "code",
   "execution_count": 14,
   "id": "72831450-8585-4f16-9f16-1767a91d4dd8",
   "metadata": {
    "execution": {
     "iopub.execute_input": "2022-05-03T13:34:37.848648Z",
     "iopub.status.busy": "2022-05-03T13:34:37.848536Z",
     "iopub.status.idle": "2022-05-03T13:34:38.124496Z",
     "shell.execute_reply": "2022-05-03T13:34:38.124213Z",
     "shell.execute_reply.started": "2022-05-03T13:34:37.848634Z"
    }
   },
   "outputs": [
    {
     "data": {
      "image/png": "[encoded data removed]",
      "text/plain": [
       "<Figure size 432x288 with 2 Axes>"
      ]
     },
     "metadata": {
      "needs_background": "light"
     },
     "output_type": "display_data"
    }
   ],
   "source": [
    "t = 0.\n",
    "fields = Model.mwhalo_fields(t, X, Y, Z, mwhharmonicflag=0)\n",
    "\n",
    "dens = fields[:,3]\n",
    "dens = dens.reshape((len(y), len(z)))\n",
    "\n",
    "fig, ax = mwlmc_plot.plot_density(Ym, Zm, dens, \n",
    "                                  cmap = plt.cm.inferno, \n",
    "                                  norm = LogNorm())\n",
    "plt.show()"
   ]
  },
  {
   "cell_type": "markdown",
   "id": "7318bb65-e8be-464c-9c4b-984f764f7bcc",
   "metadata": {},
   "source": [
    "The same way, you can calculate the potential field (with `pot = fields[:,4]`) \n",
    "or the forces."
   ]
  },
  {
   "cell_type": "code",
   "execution_count": 15,
   "id": "ec66bee8-680e-4c50-bced-dbaadd69bbd8",
   "metadata": {
    "execution": {
     "iopub.execute_input": "2022-05-03T13:34:38.125124Z",
     "iopub.status.busy": "2022-05-03T13:34:38.125031Z",
     "iopub.status.idle": "2022-05-03T13:34:38.264799Z",
     "shell.execute_reply": "2022-05-03T13:34:38.264324Z",
     "shell.execute_reply.started": "2022-05-03T13:34:38.125111Z"
    },
    "tags": []
   },
   "outputs": [
    {
     "data": {
      "image/png": "[encoded data removed]",
      "text/plain": [
       "<Figure size 432x288 with 2 Axes>"
      ]
     },
     "metadata": {
      "needs_background": "light"
     },
     "output_type": "display_data"
    }
   ],
   "source": [
    "# get the live model fields again\n",
    "fields = Model.mwhalo_fields(t, X, Y, Z)\n",
    "\n",
    "pot = fields[:,4]\n",
    "pot = pot.reshape((len(y), len(z)))\n",
    "\n",
    "fig, ax = mwlmc_plot.plot_potential(Ym, Zm, pot, cmap = plt.cm.inferno_r)\n",
    "plt.show()"
   ]
  },
  {
   "cell_type": "markdown",
   "id": "c58a1570-b9b3-4a28-8acf-44f1c5531ec6",
   "metadata": {},
   "source": [
    "#### Choosing the harmonic moment of the deformation"
   ]
  },
  {
   "cell_type": "markdown",
   "id": "1150bc95-4ab0-4ff4-82a8-ab9316773615",
   "metadata": {},
   "source": [
    "The same way, we can get forces, potential, and density for the LMC. Let's look\n",
    "at its density in different spherical harmonic moments. For this, we can use \n",
    "the `lmcharmonicflag` for the LMC (and `mwhharmonicflag` for the `mwhalo` and \n",
    "`mwdharmonicflag` for the `mwd`). These flags are unique to the moments we want\n",
    "to choose (by default, the fully live versions are selected). We can select \n",
    "up to the $l=6$ order in any combination we want (with the monopole always being\n",
    "selected). The `mwlmc_util.get_harmonic_flag` function returns the flag for our \n",
    "selection. If we e.g. want to choose only the even moments $l=(2,4,6)$ we can \n",
    "call `flag = mwlmc_util.get_harmonic_flag([2,4,6])`."
   ]
  },
  {
   "cell_type": "code",
   "execution_count": 16,
   "id": "b0eb81e4-c4f6-433f-95a6-3ccac5677279",
   "metadata": {
    "execution": {
     "iopub.execute_input": "2022-05-03T13:34:38.265735Z",
     "iopub.status.busy": "2022-05-03T13:34:38.265541Z",
     "iopub.status.idle": "2022-05-03T13:34:38.270129Z",
     "shell.execute_reply": "2022-05-03T13:34:38.269082Z",
     "shell.execute_reply.started": "2022-05-03T13:34:38.265721Z"
    },
    "tags": []
   },
   "outputs": [
    {
     "name": "stdout",
     "output_type": "stream",
     "text": [
      "42\n"
     ]
    }
   ],
   "source": [
    "flag = mwlmc_util.get_harmonic_flag([2,4,6])\n",
    "print(flag)"
   ]
  },
  {
   "cell_type": "markdown",
   "id": "62aa7fb8-c838-47ef-a072-2c4cd03b2780",
   "metadata": {},
   "source": [
    "Let's look at the densities of the LMC's monopole, mono+dipole, mono+quadrupole,\n",
    "and the live LMC. We need to select flags accordingly, and then can calculate \n",
    "the fields and plot the densities:"
   ]
  },
  {
   "cell_type": "code",
   "execution_count": 17,
   "id": "3dbff190-ad86-40a1-a405-a5de1ffbc955",
   "metadata": {
    "execution": {
     "iopub.execute_input": "2022-05-03T13:34:38.270941Z",
     "iopub.status.busy": "2022-05-03T13:34:38.270827Z",
     "iopub.status.idle": "2022-05-03T13:34:39.472576Z",
     "shell.execute_reply": "2022-05-03T13:34:39.472303Z",
     "shell.execute_reply.started": "2022-05-03T13:34:38.270927Z"
    },
    "tags": []
   },
   "outputs": [
    {
     "name": "stdout",
     "output_type": "stream",
     "text": [
      "monopole\n"
     ]
    },
    {
     "data": {
      "image/png": "[encoded data removed]",
      "text/plain": [
       "<Figure size 432x288 with 2 Axes>"
      ]
     },
     "metadata": {
      "needs_background": "light"
     },
     "output_type": "display_data"
    },
    {
     "name": "stdout",
     "output_type": "stream",
     "text": [
      "mono+dipole\n"
     ]
    },
    {
     "data": {
      "image/png": "[encoded data removed]",
      "text/plain": [
       "<Figure size 432x288 with 2 Axes>"
      ]
     },
     "metadata": {
      "needs_background": "light"
     },
     "output_type": "display_data"
    },
    {
     "name": "stdout",
     "output_type": "stream",
     "text": [
      "mono+quadrupole\n"
     ]
    },
    {
     "data": {
      "image/png": "[encoded data removed]",
      "text/plain": [
       "<Figure size 432x288 with 2 Axes>"
      ]
     },
     "metadata": {
      "needs_background": "light"
     },
     "output_type": "display_data"
    },
    {
     "name": "stdout",
     "output_type": "stream",
     "text": [
      "live\n"
     ]
    },
    {
     "data": {
      "image/png": "[encoded data removed]",
      "text/plain": [
       "<Figure size 432x288 with 2 Axes>"
      ]
     },
     "metadata": {
      "needs_background": "light"
     },
     "output_type": "display_data"
    }
   ],
   "source": [
    "l_select = [0, 1, 2] \n",
    "moments = ['monopole', 'mono+dipole', 'mono+quadrupole']\n",
    "t=0.\n",
    "\n",
    "# loop over the different moments\n",
    "for l in l_select:\n",
    "    print(moments[l])\n",
    "    flag = mwlmc_util.get_harmonic_flag([l])\n",
    "    fields = Model.lmc_fields(t, X, Y, Z, lmcharmonicflag=flag)\n",
    "\n",
    "    dens = fields[:,3]\n",
    "    dens = dens.reshape((len(y), len(z)))\n",
    "\n",
    "    fig, ax = mwlmc_plot.plot_density(Ym, Zm, dens,\n",
    "                                      cmap = plt.cm.inferno, \n",
    "                                      norm = LogNorm())\n",
    "    plt.show()\n",
    "\n",
    "# and now the live LMC\n",
    "print('live')\n",
    "fields = Model.lmc_fields(t, X, Y, Z, globalframe=True)\n",
    "\n",
    "dens = fields[:,3]\n",
    "dens = dens.reshape((len(y), len(z)))\n",
    "\n",
    "fig, ax = mwlmc_plot.plot_density(Ym, Zm, dens,\n",
    "                                  cmap = plt.cm.inferno, \n",
    "                                  norm = LogNorm())\n",
    "plt.show()\n"
   ]
  },
  {
   "cell_type": "markdown",
   "id": "7d122d84-9bde-4e58-8b4c-d5aa29e41b1e",
   "metadata": {},
   "source": [
    "The LMC's deformations resemble the quadrupole, but there is still a difference\n",
    "that needs higher moments for its explanation!"
   ]
  },
  {
   "cell_type": "markdown",
   "id": "f31c72af-d6d4-4af6-8d5f-964d07fe926d",
   "metadata": {},
   "source": [
    "**Note**: even though it follows the same syntax, the densities for the MW \n",
    "stellar component are not implemented yet."
   ]
  },
  {
   "cell_type": "markdown",
   "id": "1434490b-1c09-48ac-8cf6-c603953d9f88",
   "metadata": {},
   "source": [
    "#### Combined forces relative to the center of the stellar component"
   ]
  },
  {
   "cell_type": "markdown",
   "id": "7a9b0ef2-6f2a-4d04-86a5-fdeb0bf400c1",
   "metadata": {},
   "source": [
    "Now we want to extract the forces from all components (relative to the MW \n",
    "center). We can use the `all_forces` function for this, again either at one \n",
    "position or over an array. Here, all three harmonic flags can be set."
   ]
  },
  {
   "cell_type": "code",
   "execution_count": 37,
   "id": "f816d8d2-dd38-4053-a381-e3a6d29a8c21",
   "metadata": {
    "execution": {
     "iopub.execute_input": "2022-05-03T13:40:08.274413Z",
     "iopub.status.busy": "2022-05-03T13:40:08.273861Z",
     "iopub.status.idle": "2022-05-03T13:40:08.494858Z",
     "shell.execute_reply": "2022-05-03T13:40:08.494229Z",
     "shell.execute_reply.started": "2022-05-03T13:40:08.274365Z"
    },
    "tags": []
   },
   "outputs": [
    {
     "data": {
      "image/png": "[encoded data removed]",
      "text/plain": [
       "<Figure size 432x288 with 2 Axes>"
      ]
     },
     "metadata": {
      "needs_background": "light"
     },
     "output_type": "display_data"
    }
   ],
   "source": [
    "forces = Model.all_forces(t=0, x=np.full(len(Y), 0.01), y=Y, z=Z)\n",
    "fx, fy, fz = forces[:,0], forces[:,1], forces[:,2]\n",
    "\n",
    "# Let's have a look at the z-force\n",
    "fz = fz.reshape((len(y), len(z)))\n",
    "\n",
    "fig, ax = mwlmc_plot.plot_forces(Ym, Zm, fz,\n",
    "                                  cmap = plt.cm.inferno, \n",
    "                                  norm = LogNorm())\n",
    "plt.show()"
   ]
  },
  {
   "cell_type": "markdown",
   "id": "ed822eba-1016-43ea-9756-0a3d9f6824d7",
   "metadata": {
    "execution": {
     "iopub.execute_input": "2022-05-03T13:34:39.473225Z",
     "iopub.status.busy": "2022-05-03T13:34:39.473133Z",
     "iopub.status.idle": "2022-05-03T13:34:39.475846Z",
     "shell.execute_reply": "2022-05-03T13:34:39.475341Z",
     "shell.execute_reply.started": "2022-05-03T13:34:39.473213Z"
    }
   },
   "source": [
    "#### LMC trajectory\n"
   ]
  },
  {
   "cell_type": "markdown",
   "id": "60cce6df-2096-46dc-aaff-f5c7d8d9980f",
   "metadata": {},
   "source": [
    "To get the trajectory of the LMC, just call the `get_lmc_trajectory` function \n",
    "with the time step you are interested in:\n"
   ]
  },
  {
   "cell_type": "code",
   "execution_count": 42,
   "id": "ea527465-39f9-49ac-9e78-d9093d0e9b90",
   "metadata": {
    "execution": {
     "iopub.execute_input": "2022-05-03T13:46:28.037954Z",
     "iopub.status.busy": "2022-05-03T13:46:28.036456Z",
     "iopub.status.idle": "2022-05-03T13:46:28.052023Z",
     "shell.execute_reply": "2022-05-03T13:46:28.050859Z",
     "shell.execute_reply.started": "2022-05-03T13:46:28.037877Z"
    },
    "tags": []
   },
   "outputs": [],
   "source": [
    "t, lmcx, lmcy, lmcz = Model.get_lmc_trajectory(0.1).T\n",
    "r = (lmcx**2 + lmcy**2 + lmcz**2)**(0.5)"
   ]
  },
  {
   "cell_type": "code",
   "execution_count": 49,
   "id": "0c47d2f4-1ce0-4a42-8456-f3ea3bd52c3a",
   "metadata": {
    "execution": {
     "iopub.execute_input": "2022-05-03T13:47:18.005511Z",
     "iopub.status.busy": "2022-05-03T13:47:18.005090Z",
     "iopub.status.idle": "2022-05-03T13:47:18.117134Z",
     "shell.execute_reply": "2022-05-03T13:47:18.116573Z",
     "shell.execute_reply.started": "2022-05-03T13:47:18.005479Z"
    },
    "tags": []
   },
   "outputs": [
    {
     "data": {
      "image/png": "[encoded data removed]",
      "text/plain": [
       "<Figure size 432x288 with 1 Axes>"
      ]
     },
     "metadata": {
      "needs_background": "light"
     },
     "output_type": "display_data"
    }
   ],
   "source": [
    "fig, ax = mwlmc_plot.plot_lmc_orbit(t, r)\n",
    "plt.show()"
   ]
  },
  {
   "cell_type": "code",
   "execution_count": null,
   "id": "56ecf63a-b55c-48f2-9fdf-9045687b73b4",
   "metadata": {
    "tags": []
   },
   "outputs": [],
   "source": []
  },
  {
   "cell_type": "code",
   "execution_count": null,
   "id": "381adf02-10de-4616-9f51-1491f2357506",
   "metadata": {},
   "outputs": [],
   "source": []
  }
 ],
 "metadata": {
  "kernelspec": {
   "display_name": "Python 3 (ipykernel)",
   "language": "python",
   "name": "python3"
  },
  "language_info": {
   "codemirror_mode": {
    "name": "ipython",
    "version": 3
   },
   "file_extension": ".py",
   "mimetype": "text/x-python",
   "name": "python",
   "nbconvert_exporter": "python",
   "pygments_lexer": "ipython3",
   "version": "3.8.12"
  }
 },
 "nbformat": 4,
 "nbformat_minor": 5
}
