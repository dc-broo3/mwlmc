{
 "cells": [
  {
   "cell_type": "code",
   "execution_count": 1,
   "id": "3f457d57-63e4-4eda-8923-801fd7cb48a4",
   "metadata": {
    "execution": {
     "iopub.execute_input": "2022-05-03T12:57:23.752362Z",
     "iopub.status.busy": "2022-05-03T12:57:23.751519Z",
     "iopub.status.idle": "2022-05-03T12:57:27.639543Z",
     "shell.execute_reply": "2022-05-03T12:57:27.639172Z",
     "shell.execute_reply.started": "2022-05-03T12:57:23.752009Z"
    }
   },
   "outputs": [
    {
     "data": {
      "text/plain": [
       "<module 'mwlmc_plot' from '/Users/sl01701/Documents/Projects/code/mwlmc/tutorial/mwlmc_plot.py'>"
      ]
     },
     "execution_count": 1,
     "metadata": {},
     "output_type": "execute_result"
    }
   ],
   "source": [
    "### import packages here\n",
    "\n",
    "import numpy as np\n",
    "import matplotlib.pyplot as plt\n",
    "from matplotlib.colors import LogNorm\n",
    "\n",
    "import mwlmc\n",
    "\n",
    "import mwlmc_util\n",
    "import mwlmc_plot\n",
    "\n",
    "import importlib\n",
    "importlib.reload(mwlmc_util)\n",
    "importlib.reload(mwlmc_plot)"
   ]
  },
  {
   "cell_type": "markdown",
   "id": "f2e7481b-94d2-4c02-bf2f-d62694657c04",
   "metadata": {},
   "source": [
    "### Introduction"
   ]
  },
  {
   "cell_type": "markdown",
   "id": "d8a407b1-0cc1-4395-af5b-958ea73691b5",
   "metadata": {},
   "source": [
    "The simulations consists of expansion of the Milky Way stellar component \n",
    "(`mwd`), the Milky Way halo (`mwhalo`), and the Large Magellanic Cloud halo \n",
    "(`lmc`). In this tutorial, we present how we can run orbits in\n",
    "the full simulation. For a tutorial on how to access the fields, see the \n",
    "[fields tutorial](fields_tutorial.ipynb). The advantage of this type of \n",
    "simulation is that we can select different moments (such as the dipole or \n",
    "quadrupole), and see how this affects all these outputs. For a more detailed \n",
    "explanation and example, see e.g.vLilleengen et al. 2022. We also provide the \n",
    "option to run orbits in the static, unperturbed Milky Way potential from [Erkal et al. 2019](https://ui.adsabs.harvard.edu/link_gateway/2019MNRAS.487.2685E/doi:10.1093/mnras/stz1371).\n",
    "\n",
    "\n",
    "\n",
    "Let's get started. To access the simulation, first, we need to initialize the \n",
    "expansions. Afterwards, the functions will be callable via the Model instance:"
   ]
  },
  {
   "cell_type": "code",
   "execution_count": 2,
   "id": "67d4f814-b4ae-4bf1-899a-6d4008873ba5",
   "metadata": {
    "execution": {
     "iopub.execute_input": "2022-05-03T13:02:31.454820Z",
     "iopub.status.busy": "2022-05-03T13:02:31.454150Z",
     "iopub.status.idle": "2022-05-03T13:02:32.337353Z",
     "shell.execute_reply": "2022-05-03T13:02:32.336848Z",
     "shell.execute_reply.started": "2022-05-03T13:02:31.454763Z"
    }
   },
   "outputs": [
    {
     "name": "stdout",
     "output_type": "stream",
     "text": [
      "Initialising MW ... \n"
     ]
    },
    {
     "name": "stderr",
     "output_type": "stream",
     "text": [
      "sphcache::read_sph_cache: trying to read cached table . . . "
     ]
    },
    {
     "name": "stdout",
     "output_type": "stream",
     "text": [
      "sphcoefs::read_coef_file: reading coefficients from file . . . success!!\n",
      "Initialising LMC ... \n",
      "sphcoefs::read_coef_file: reading coefficients from file . . . success!!\n",
      "Initialising MW disc ... \n",
      "cylcoefs::read_coef_file: reading NUMT, LMAX, NORDER from file . . . success!!\n"
     ]
    },
    {
     "name": "stderr",
     "output_type": "stream",
     "text": [
      "success!!\n",
      "sphcache::read_sph_cache: trying to read cached table . . . success!!\n",
      "cylcache::read_cyl_cache: trying to read cached table . . . success!!\n"
     ]
    }
   ],
   "source": [
    "Model = mwlmc.MWLMC()"
   ]
  },
  {
   "cell_type": "code",
   "execution_count": null,
   "id": "0598b7e2-b773-4fb5-9f6e-11c7930f825e",
   "metadata": {},
   "outputs": [],
   "source": [
    "\n",
    "X = Model.rewind(np.array([-8.27,0.,0.]), np.array([0.,200.,0.]), mwhharmonicflag=7, rewindtime=2.5, dt=0.001)\n",
    "\n",
    "print(np.shape(np.array([-8.27,0.,0.])))\n",
    "\n",
    "norbits = 10\n",
    "pos = np.zeros([norbits,3])\n",
    "vel = np.zeros([norbits,3])\n",
    "\n",
    "for n in range(0,norbits):\n",
    "    pos[n] = [1.*n,0.,0.]\n",
    "    vel[n] = [0.,210.,0.]\n",
    "\n",
    "print(np.shape(pos))\n",
    "X = Model.rewind(pos,vel,mwhharmonicflag=7,rewindtime=2.5,dt=0.001)"
   ]
  },
  {
   "cell_type": "code",
   "execution_count": null,
   "id": "5d07ec2c-203c-489f-a0b5-1cf5cb342541",
   "metadata": {},
   "outputs": [],
   "source": [
    "# Make example orbits \n",
    "pos = [8., 0., 0.]\n",
    "vel = [0., 200., 0]\n",
    "\n",
    "tend = 0.\n",
    "tstart = -4.\n",
    "dt = 0.1 \n",
    "\n",
    "orbit = MWLMC.orbit(pos=pos, vel=vel, \n",
    "                    tstart=tstart, tend=tend, dt=dt,\n",
    "                    dipole=True)\n",
    "\n",
    "# should we give the option to exclude the LMC? It still affects the orbit of the MW so probably not?\n",
    "\n"
   ]
  }
 ],
 "metadata": {
  "kernelspec": {
   "display_name": "Python 3 (ipykernel)",
   "language": "python",
   "name": "python3"
  },
  "language_info": {
   "codemirror_mode": {
    "name": "ipython",
    "version": 3
   },
   "file_extension": ".py",
   "mimetype": "text/x-python",
   "name": "python",
   "nbconvert_exporter": "python",
   "pygments_lexer": "ipython3",
   "version": "3.8.12"
  }
 },
 "nbformat": 4,
 "nbformat_minor": 5
}
